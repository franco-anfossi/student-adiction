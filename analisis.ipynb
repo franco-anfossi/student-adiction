{
 "cells": [
  {
   "cell_type": "markdown",
   "metadata": {},
   "source": [
    "## Librerías"
   ]
  },
  {
   "cell_type": "code",
   "execution_count": 26,
   "metadata": {},
   "outputs": [],
   "source": [
    "import numpy as np\n",
    "import pandas as pd\n",
    "import seaborn as sns\n",
    "import matplotlib.pyplot as plt\n",
    "from pgmpy.models import BayesianNetwork\n",
    "from pgmpy.estimators import BayesianEstimator, HillClimbSearch, BicScore, MmhcEstimator, PC, BDeuScore"
   ]
  },
  {
   "cell_type": "markdown",
   "metadata": {},
   "source": [
    "## Dataset"
   ]
  },
  {
   "cell_type": "code",
   "execution_count": 27,
   "metadata": {},
   "outputs": [],
   "source": [
    "test_df = pd.read_csv('dataset/student_addiction_dataset_test.csv')\n",
    "train_df = pd.read_csv('dataset/student_addiction_dataset_train.csv')"
   ]
  },
  {
   "cell_type": "code",
   "execution_count": 28,
   "metadata": {},
   "outputs": [
    {
     "data": {
      "text/plain": [
       "((12744, 11), (50342, 11))"
      ]
     },
     "execution_count": 28,
     "metadata": {},
     "output_type": "execute_result"
    }
   ],
   "source": [
    "test_df.shape, train_df.shape"
   ]
  },
  {
   "cell_type": "markdown",
   "metadata": {},
   "source": [
    "## Transformar valores"
   ]
  },
  {
   "cell_type": "code",
   "execution_count": 29,
   "metadata": {},
   "outputs": [
    {
     "data": {
      "text/html": [
       "<div>\n",
       "<style scoped>\n",
       "    .dataframe tbody tr th:only-of-type {\n",
       "        vertical-align: middle;\n",
       "    }\n",
       "\n",
       "    .dataframe tbody tr th {\n",
       "        vertical-align: top;\n",
       "    }\n",
       "\n",
       "    .dataframe thead th {\n",
       "        text-align: right;\n",
       "    }\n",
       "</style>\n",
       "<table border=\"1\" class=\"dataframe\">\n",
       "  <thead>\n",
       "    <tr style=\"text-align: right;\">\n",
       "      <th></th>\n",
       "      <th>Experimentation</th>\n",
       "      <th>Academic_Performance_Decline</th>\n",
       "      <th>Social_Isolation</th>\n",
       "      <th>Financial_Issues</th>\n",
       "      <th>Physical_Mental_Health_Problems</th>\n",
       "      <th>Legal_Consequences</th>\n",
       "      <th>Relationship_Strain</th>\n",
       "      <th>Risk_Taking_Behavior</th>\n",
       "      <th>Withdrawal_Symptoms</th>\n",
       "      <th>Denial_and_Resistance_to_Treatment</th>\n",
       "      <th>Addiction_Class</th>\n",
       "    </tr>\n",
       "  </thead>\n",
       "  <tbody>\n",
       "    <tr>\n",
       "      <th>0</th>\n",
       "      <td>Yes</td>\n",
       "      <td>Yes</td>\n",
       "      <td>Yes</td>\n",
       "      <td>No</td>\n",
       "      <td>Yes</td>\n",
       "      <td>No</td>\n",
       "      <td>No</td>\n",
       "      <td>No</td>\n",
       "      <td>Yes</td>\n",
       "      <td>No</td>\n",
       "      <td>No</td>\n",
       "    </tr>\n",
       "    <tr>\n",
       "      <th>1</th>\n",
       "      <td>No</td>\n",
       "      <td>No</td>\n",
       "      <td>Yes</td>\n",
       "      <td>No</td>\n",
       "      <td>No</td>\n",
       "      <td>Yes</td>\n",
       "      <td>No</td>\n",
       "      <td>Yes</td>\n",
       "      <td>No</td>\n",
       "      <td>No</td>\n",
       "      <td>No</td>\n",
       "    </tr>\n",
       "    <tr>\n",
       "      <th>2</th>\n",
       "      <td>No</td>\n",
       "      <td>No</td>\n",
       "      <td>No</td>\n",
       "      <td>Yes</td>\n",
       "      <td>No</td>\n",
       "      <td>Yes</td>\n",
       "      <td>No</td>\n",
       "      <td>No</td>\n",
       "      <td>Yes</td>\n",
       "      <td>No</td>\n",
       "      <td>No</td>\n",
       "    </tr>\n",
       "    <tr>\n",
       "      <th>3</th>\n",
       "      <td>Yes</td>\n",
       "      <td>No</td>\n",
       "      <td>Yes</td>\n",
       "      <td>No</td>\n",
       "      <td>Yes</td>\n",
       "      <td>Yes</td>\n",
       "      <td>No</td>\n",
       "      <td>Yes</td>\n",
       "      <td>No</td>\n",
       "      <td>Yes</td>\n",
       "      <td>Yes</td>\n",
       "    </tr>\n",
       "    <tr>\n",
       "      <th>4</th>\n",
       "      <td>No</td>\n",
       "      <td>No</td>\n",
       "      <td>No</td>\n",
       "      <td>No</td>\n",
       "      <td>Yes</td>\n",
       "      <td>No</td>\n",
       "      <td>No</td>\n",
       "      <td>No</td>\n",
       "      <td>No</td>\n",
       "      <td>Yes</td>\n",
       "      <td>No</td>\n",
       "    </tr>\n",
       "  </tbody>\n",
       "</table>\n",
       "</div>"
      ],
      "text/plain": [
       "  Experimentation Academic_Performance_Decline Social_Isolation  \\\n",
       "0             Yes                          Yes              Yes   \n",
       "1              No                           No              Yes   \n",
       "2              No                           No               No   \n",
       "3             Yes                           No              Yes   \n",
       "4              No                           No               No   \n",
       "\n",
       "  Financial_Issues Physical_Mental_Health_Problems Legal_Consequences  \\\n",
       "0               No                             Yes                 No   \n",
       "1               No                              No                Yes   \n",
       "2              Yes                              No                Yes   \n",
       "3               No                             Yes                Yes   \n",
       "4               No                             Yes                 No   \n",
       "\n",
       "  Relationship_Strain Risk_Taking_Behavior Withdrawal_Symptoms  \\\n",
       "0                  No                   No                 Yes   \n",
       "1                  No                  Yes                  No   \n",
       "2                  No                   No                 Yes   \n",
       "3                  No                  Yes                  No   \n",
       "4                  No                   No                  No   \n",
       "\n",
       "  Denial_and_Resistance_to_Treatment Addiction_Class  \n",
       "0                                 No              No  \n",
       "1                                 No              No  \n",
       "2                                 No              No  \n",
       "3                                Yes             Yes  \n",
       "4                                Yes              No  "
      ]
     },
     "execution_count": 29,
     "metadata": {},
     "output_type": "execute_result"
    }
   ],
   "source": [
    "test_df.head()"
   ]
  },
  {
   "cell_type": "code",
   "execution_count": 30,
   "metadata": {},
   "outputs": [
    {
     "data": {
      "text/html": [
       "<div>\n",
       "<style scoped>\n",
       "    .dataframe tbody tr th:only-of-type {\n",
       "        vertical-align: middle;\n",
       "    }\n",
       "\n",
       "    .dataframe tbody tr th {\n",
       "        vertical-align: top;\n",
       "    }\n",
       "\n",
       "    .dataframe thead th {\n",
       "        text-align: right;\n",
       "    }\n",
       "</style>\n",
       "<table border=\"1\" class=\"dataframe\">\n",
       "  <thead>\n",
       "    <tr style=\"text-align: right;\">\n",
       "      <th></th>\n",
       "      <th>Experimentation</th>\n",
       "      <th>Academic_Performance_Decline</th>\n",
       "      <th>Social_Isolation</th>\n",
       "      <th>Financial_Issues</th>\n",
       "      <th>Physical_Mental_Health_Problems</th>\n",
       "      <th>Legal_Consequences</th>\n",
       "      <th>Relationship_Strain</th>\n",
       "      <th>Risk_Taking_Behavior</th>\n",
       "      <th>Withdrawal_Symptoms</th>\n",
       "      <th>Denial_and_Resistance_to_Treatment</th>\n",
       "      <th>Addiction_Class</th>\n",
       "    </tr>\n",
       "  </thead>\n",
       "  <tbody>\n",
       "    <tr>\n",
       "      <th>0</th>\n",
       "      <td>Yes</td>\n",
       "      <td>No</td>\n",
       "      <td>No</td>\n",
       "      <td>Yes</td>\n",
       "      <td>No</td>\n",
       "      <td>No</td>\n",
       "      <td>No</td>\n",
       "      <td>Yes</td>\n",
       "      <td>No</td>\n",
       "      <td>No</td>\n",
       "      <td>No</td>\n",
       "    </tr>\n",
       "    <tr>\n",
       "      <th>1</th>\n",
       "      <td>No</td>\n",
       "      <td>Yes</td>\n",
       "      <td>NaN</td>\n",
       "      <td>Yes</td>\n",
       "      <td>Yes</td>\n",
       "      <td>Yes</td>\n",
       "      <td>Yes</td>\n",
       "      <td>Yes</td>\n",
       "      <td>Yes</td>\n",
       "      <td>No</td>\n",
       "      <td>Yes</td>\n",
       "    </tr>\n",
       "    <tr>\n",
       "      <th>2</th>\n",
       "      <td>No</td>\n",
       "      <td>No</td>\n",
       "      <td>No</td>\n",
       "      <td>No</td>\n",
       "      <td>No</td>\n",
       "      <td>Yes</td>\n",
       "      <td>Yes</td>\n",
       "      <td>Yes</td>\n",
       "      <td>No</td>\n",
       "      <td>No</td>\n",
       "      <td>No</td>\n",
       "    </tr>\n",
       "    <tr>\n",
       "      <th>3</th>\n",
       "      <td>Yes</td>\n",
       "      <td>No</td>\n",
       "      <td>Yes</td>\n",
       "      <td>Yes</td>\n",
       "      <td>No</td>\n",
       "      <td>Yes</td>\n",
       "      <td>No</td>\n",
       "      <td>No</td>\n",
       "      <td>No</td>\n",
       "      <td>Yes</td>\n",
       "      <td>Yes</td>\n",
       "    </tr>\n",
       "    <tr>\n",
       "      <th>4</th>\n",
       "      <td>Yes</td>\n",
       "      <td>Yes</td>\n",
       "      <td>No</td>\n",
       "      <td>NaN</td>\n",
       "      <td>No</td>\n",
       "      <td>Yes</td>\n",
       "      <td>Yes</td>\n",
       "      <td>Yes</td>\n",
       "      <td>No</td>\n",
       "      <td>No</td>\n",
       "      <td>Yes</td>\n",
       "    </tr>\n",
       "  </tbody>\n",
       "</table>\n",
       "</div>"
      ],
      "text/plain": [
       "  Experimentation Academic_Performance_Decline Social_Isolation  \\\n",
       "0             Yes                           No               No   \n",
       "1              No                          Yes              NaN   \n",
       "2              No                           No               No   \n",
       "3             Yes                           No              Yes   \n",
       "4             Yes                          Yes               No   \n",
       "\n",
       "  Financial_Issues Physical_Mental_Health_Problems Legal_Consequences  \\\n",
       "0              Yes                              No                 No   \n",
       "1              Yes                             Yes                Yes   \n",
       "2               No                              No                Yes   \n",
       "3              Yes                              No                Yes   \n",
       "4              NaN                              No                Yes   \n",
       "\n",
       "  Relationship_Strain Risk_Taking_Behavior Withdrawal_Symptoms  \\\n",
       "0                  No                  Yes                  No   \n",
       "1                 Yes                  Yes                 Yes   \n",
       "2                 Yes                  Yes                  No   \n",
       "3                  No                   No                  No   \n",
       "4                 Yes                  Yes                  No   \n",
       "\n",
       "  Denial_and_Resistance_to_Treatment Addiction_Class  \n",
       "0                                 No              No  \n",
       "1                                 No             Yes  \n",
       "2                                 No              No  \n",
       "3                                Yes             Yes  \n",
       "4                                 No             Yes  "
      ]
     },
     "execution_count": 30,
     "metadata": {},
     "output_type": "execute_result"
    }
   ],
   "source": [
    "train_df.head()"
   ]
  },
  {
   "cell_type": "code",
   "execution_count": 31,
   "metadata": {},
   "outputs": [],
   "source": [
    "pd.set_option('future.no_silent_downcasting', True)\n",
    "train_df = train_df.replace({'Yes': 1, 'No': 0})\n",
    "test_df = test_df.replace({'Yes': 1, 'No': 0})"
   ]
  },
  {
   "cell_type": "code",
   "execution_count": 32,
   "metadata": {},
   "outputs": [
    {
     "data": {
      "text/html": [
       "<div>\n",
       "<style scoped>\n",
       "    .dataframe tbody tr th:only-of-type {\n",
       "        vertical-align: middle;\n",
       "    }\n",
       "\n",
       "    .dataframe tbody tr th {\n",
       "        vertical-align: top;\n",
       "    }\n",
       "\n",
       "    .dataframe thead th {\n",
       "        text-align: right;\n",
       "    }\n",
       "</style>\n",
       "<table border=\"1\" class=\"dataframe\">\n",
       "  <thead>\n",
       "    <tr style=\"text-align: right;\">\n",
       "      <th></th>\n",
       "      <th>Experimentation</th>\n",
       "      <th>Academic_Performance_Decline</th>\n",
       "      <th>Social_Isolation</th>\n",
       "      <th>Financial_Issues</th>\n",
       "      <th>Physical_Mental_Health_Problems</th>\n",
       "      <th>Legal_Consequences</th>\n",
       "      <th>Relationship_Strain</th>\n",
       "      <th>Risk_Taking_Behavior</th>\n",
       "      <th>Withdrawal_Symptoms</th>\n",
       "      <th>Denial_and_Resistance_to_Treatment</th>\n",
       "      <th>Addiction_Class</th>\n",
       "    </tr>\n",
       "  </thead>\n",
       "  <tbody>\n",
       "    <tr>\n",
       "      <th>0</th>\n",
       "      <td>1</td>\n",
       "      <td>0</td>\n",
       "      <td>0</td>\n",
       "      <td>1</td>\n",
       "      <td>0</td>\n",
       "      <td>0</td>\n",
       "      <td>0</td>\n",
       "      <td>1</td>\n",
       "      <td>0</td>\n",
       "      <td>0</td>\n",
       "      <td>0</td>\n",
       "    </tr>\n",
       "    <tr>\n",
       "      <th>1</th>\n",
       "      <td>0</td>\n",
       "      <td>1</td>\n",
       "      <td>NaN</td>\n",
       "      <td>1</td>\n",
       "      <td>1</td>\n",
       "      <td>1</td>\n",
       "      <td>1</td>\n",
       "      <td>1</td>\n",
       "      <td>1</td>\n",
       "      <td>0</td>\n",
       "      <td>1</td>\n",
       "    </tr>\n",
       "    <tr>\n",
       "      <th>2</th>\n",
       "      <td>0</td>\n",
       "      <td>0</td>\n",
       "      <td>0</td>\n",
       "      <td>0</td>\n",
       "      <td>0</td>\n",
       "      <td>1</td>\n",
       "      <td>1</td>\n",
       "      <td>1</td>\n",
       "      <td>0</td>\n",
       "      <td>0</td>\n",
       "      <td>0</td>\n",
       "    </tr>\n",
       "    <tr>\n",
       "      <th>3</th>\n",
       "      <td>1</td>\n",
       "      <td>0</td>\n",
       "      <td>1</td>\n",
       "      <td>1</td>\n",
       "      <td>0</td>\n",
       "      <td>1</td>\n",
       "      <td>0</td>\n",
       "      <td>0</td>\n",
       "      <td>0</td>\n",
       "      <td>1</td>\n",
       "      <td>1</td>\n",
       "    </tr>\n",
       "    <tr>\n",
       "      <th>4</th>\n",
       "      <td>1</td>\n",
       "      <td>1</td>\n",
       "      <td>0</td>\n",
       "      <td>NaN</td>\n",
       "      <td>0</td>\n",
       "      <td>1</td>\n",
       "      <td>1</td>\n",
       "      <td>1</td>\n",
       "      <td>0</td>\n",
       "      <td>0</td>\n",
       "      <td>1</td>\n",
       "    </tr>\n",
       "  </tbody>\n",
       "</table>\n",
       "</div>"
      ],
      "text/plain": [
       "  Experimentation Academic_Performance_Decline Social_Isolation  \\\n",
       "0               1                            0                0   \n",
       "1               0                            1              NaN   \n",
       "2               0                            0                0   \n",
       "3               1                            0                1   \n",
       "4               1                            1                0   \n",
       "\n",
       "  Financial_Issues Physical_Mental_Health_Problems Legal_Consequences  \\\n",
       "0                1                               0                  0   \n",
       "1                1                               1                  1   \n",
       "2                0                               0                  1   \n",
       "3                1                               0                  1   \n",
       "4              NaN                               0                  1   \n",
       "\n",
       "  Relationship_Strain Risk_Taking_Behavior Withdrawal_Symptoms  \\\n",
       "0                   0                    1                   0   \n",
       "1                   1                    1                   1   \n",
       "2                   1                    1                   0   \n",
       "3                   0                    0                   0   \n",
       "4                   1                    1                   0   \n",
       "\n",
       "  Denial_and_Resistance_to_Treatment Addiction_Class  \n",
       "0                                  0               0  \n",
       "1                                  0               1  \n",
       "2                                  0               0  \n",
       "3                                  1               1  \n",
       "4                                  0               1  "
      ]
     },
     "execution_count": 32,
     "metadata": {},
     "output_type": "execute_result"
    }
   ],
   "source": [
    "train_df.head()"
   ]
  },
  {
   "cell_type": "code",
   "execution_count": 33,
   "metadata": {},
   "outputs": [
    {
     "data": {
      "text/html": [
       "<div>\n",
       "<style scoped>\n",
       "    .dataframe tbody tr th:only-of-type {\n",
       "        vertical-align: middle;\n",
       "    }\n",
       "\n",
       "    .dataframe tbody tr th {\n",
       "        vertical-align: top;\n",
       "    }\n",
       "\n",
       "    .dataframe thead th {\n",
       "        text-align: right;\n",
       "    }\n",
       "</style>\n",
       "<table border=\"1\" class=\"dataframe\">\n",
       "  <thead>\n",
       "    <tr style=\"text-align: right;\">\n",
       "      <th></th>\n",
       "      <th>Experimentation</th>\n",
       "      <th>Academic_Performance_Decline</th>\n",
       "      <th>Social_Isolation</th>\n",
       "      <th>Financial_Issues</th>\n",
       "      <th>Physical_Mental_Health_Problems</th>\n",
       "      <th>Legal_Consequences</th>\n",
       "      <th>Relationship_Strain</th>\n",
       "      <th>Risk_Taking_Behavior</th>\n",
       "      <th>Withdrawal_Symptoms</th>\n",
       "      <th>Denial_and_Resistance_to_Treatment</th>\n",
       "      <th>Addiction_Class</th>\n",
       "    </tr>\n",
       "  </thead>\n",
       "  <tbody>\n",
       "    <tr>\n",
       "      <th>0</th>\n",
       "      <td>1</td>\n",
       "      <td>1</td>\n",
       "      <td>1</td>\n",
       "      <td>0</td>\n",
       "      <td>1</td>\n",
       "      <td>0</td>\n",
       "      <td>0</td>\n",
       "      <td>0</td>\n",
       "      <td>1</td>\n",
       "      <td>0</td>\n",
       "      <td>0</td>\n",
       "    </tr>\n",
       "    <tr>\n",
       "      <th>1</th>\n",
       "      <td>0</td>\n",
       "      <td>0</td>\n",
       "      <td>1</td>\n",
       "      <td>0</td>\n",
       "      <td>0</td>\n",
       "      <td>1</td>\n",
       "      <td>0</td>\n",
       "      <td>1</td>\n",
       "      <td>0</td>\n",
       "      <td>0</td>\n",
       "      <td>0</td>\n",
       "    </tr>\n",
       "    <tr>\n",
       "      <th>2</th>\n",
       "      <td>0</td>\n",
       "      <td>0</td>\n",
       "      <td>0</td>\n",
       "      <td>1</td>\n",
       "      <td>0</td>\n",
       "      <td>1</td>\n",
       "      <td>0</td>\n",
       "      <td>0</td>\n",
       "      <td>1</td>\n",
       "      <td>0</td>\n",
       "      <td>0</td>\n",
       "    </tr>\n",
       "    <tr>\n",
       "      <th>3</th>\n",
       "      <td>1</td>\n",
       "      <td>0</td>\n",
       "      <td>1</td>\n",
       "      <td>0</td>\n",
       "      <td>1</td>\n",
       "      <td>1</td>\n",
       "      <td>0</td>\n",
       "      <td>1</td>\n",
       "      <td>0</td>\n",
       "      <td>1</td>\n",
       "      <td>1</td>\n",
       "    </tr>\n",
       "    <tr>\n",
       "      <th>4</th>\n",
       "      <td>0</td>\n",
       "      <td>0</td>\n",
       "      <td>0</td>\n",
       "      <td>0</td>\n",
       "      <td>1</td>\n",
       "      <td>0</td>\n",
       "      <td>0</td>\n",
       "      <td>0</td>\n",
       "      <td>0</td>\n",
       "      <td>1</td>\n",
       "      <td>0</td>\n",
       "    </tr>\n",
       "  </tbody>\n",
       "</table>\n",
       "</div>"
      ],
      "text/plain": [
       "  Experimentation Academic_Performance_Decline Social_Isolation  \\\n",
       "0               1                            1                1   \n",
       "1               0                            0                1   \n",
       "2               0                            0                0   \n",
       "3               1                            0                1   \n",
       "4               0                            0                0   \n",
       "\n",
       "  Financial_Issues Physical_Mental_Health_Problems Legal_Consequences  \\\n",
       "0                0                               1                  0   \n",
       "1                0                               0                  1   \n",
       "2                1                               0                  1   \n",
       "3                0                               1                  1   \n",
       "4                0                               1                  0   \n",
       "\n",
       "  Relationship_Strain Risk_Taking_Behavior Withdrawal_Symptoms  \\\n",
       "0                   0                    0                   1   \n",
       "1                   0                    1                   0   \n",
       "2                   0                    0                   1   \n",
       "3                   0                    1                   0   \n",
       "4                   0                    0                   0   \n",
       "\n",
       "  Denial_and_Resistance_to_Treatment Addiction_Class  \n",
       "0                                  0               0  \n",
       "1                                  0               0  \n",
       "2                                  0               0  \n",
       "3                                  1               1  \n",
       "4                                  1               0  "
      ]
     },
     "execution_count": 33,
     "metadata": {},
     "output_type": "execute_result"
    }
   ],
   "source": [
    "test_df.head()"
   ]
  },
  {
   "cell_type": "markdown",
   "metadata": {},
   "source": [
    "## Eliminar y transformar nulos"
   ]
  },
  {
   "cell_type": "code",
   "execution_count": 34,
   "metadata": {},
   "outputs": [
    {
     "data": {
      "text/plain": [
       "Experimentation                       645\n",
       "Academic_Performance_Decline          685\n",
       "Social_Isolation                      677\n",
       "Financial_Issues                      620\n",
       "Physical_Mental_Health_Problems       665\n",
       "Legal_Consequences                    686\n",
       "Relationship_Strain                   632\n",
       "Risk_Taking_Behavior                  613\n",
       "Withdrawal_Symptoms                   653\n",
       "Denial_and_Resistance_to_Treatment    654\n",
       "Addiction_Class                         0\n",
       "dtype: int64"
      ]
     },
     "execution_count": 34,
     "metadata": {},
     "output_type": "execute_result"
    }
   ],
   "source": [
    "tiene_nulls = test_df.isnull().sum()\n",
    "tiene_nulls"
   ]
  },
  {
   "cell_type": "code",
   "execution_count": 35,
   "metadata": {},
   "outputs": [
    {
     "data": {
      "text/plain": [
       "0    7516\n",
       "1    4096\n",
       "2     983\n",
       "3     130\n",
       "4      17\n",
       "5       2\n",
       "Name: count, dtype: int64"
      ]
     },
     "execution_count": 35,
     "metadata": {},
     "output_type": "execute_result"
    }
   ],
   "source": [
    "tiene_nulls = test_df.isnull().sum(axis=1)\n",
    "conteo_nulls = tiene_nulls.value_counts().sort_index()\n",
    "conteo_nulls"
   ]
  },
  {
   "cell_type": "code",
   "execution_count": 36,
   "metadata": {},
   "outputs": [],
   "source": [
    "test_df_filtrado = test_df.dropna(thresh=test_df.shape[1] - 2)"
   ]
  },
  {
   "cell_type": "code",
   "execution_count": 37,
   "metadata": {},
   "outputs": [],
   "source": [
    "promedios = test_df_filtrado.mean()\n",
    "for col in test_df_filtrado.columns:\n",
    "    nuevo_valor = 1 if promedios[col] > 0.5 else 0\n",
    "    test_df_filtrado.loc[:, col] = test_df_filtrado[col].fillna(nuevo_valor)"
   ]
  },
  {
   "cell_type": "code",
   "execution_count": 38,
   "metadata": {},
   "outputs": [
    {
     "data": {
      "text/plain": [
       "Experimentation                       0\n",
       "Academic_Performance_Decline          0\n",
       "Social_Isolation                      0\n",
       "Financial_Issues                      0\n",
       "Physical_Mental_Health_Problems       0\n",
       "Legal_Consequences                    0\n",
       "Relationship_Strain                   0\n",
       "Risk_Taking_Behavior                  0\n",
       "Withdrawal_Symptoms                   0\n",
       "Denial_and_Resistance_to_Treatment    0\n",
       "Addiction_Class                       0\n",
       "dtype: int64"
      ]
     },
     "execution_count": 38,
     "metadata": {},
     "output_type": "execute_result"
    }
   ],
   "source": [
    "tiene_nulls = test_df_filtrado.isnull().sum()\n",
    "tiene_nulls"
   ]
  },
  {
   "cell_type": "code",
   "execution_count": 39,
   "metadata": {},
   "outputs": [
    {
     "data": {
      "text/html": [
       "<div>\n",
       "<style scoped>\n",
       "    .dataframe tbody tr th:only-of-type {\n",
       "        vertical-align: middle;\n",
       "    }\n",
       "\n",
       "    .dataframe tbody tr th {\n",
       "        vertical-align: top;\n",
       "    }\n",
       "\n",
       "    .dataframe thead th {\n",
       "        text-align: right;\n",
       "    }\n",
       "</style>\n",
       "<table border=\"1\" class=\"dataframe\">\n",
       "  <thead>\n",
       "    <tr style=\"text-align: right;\">\n",
       "      <th></th>\n",
       "      <th>Experimentation</th>\n",
       "      <th>Academic_Performance_Decline</th>\n",
       "      <th>Social_Isolation</th>\n",
       "      <th>Financial_Issues</th>\n",
       "      <th>Physical_Mental_Health_Problems</th>\n",
       "      <th>Legal_Consequences</th>\n",
       "      <th>Relationship_Strain</th>\n",
       "      <th>Risk_Taking_Behavior</th>\n",
       "      <th>Withdrawal_Symptoms</th>\n",
       "      <th>Denial_and_Resistance_to_Treatment</th>\n",
       "      <th>Addiction_Class</th>\n",
       "    </tr>\n",
       "  </thead>\n",
       "  <tbody>\n",
       "    <tr>\n",
       "      <th>0</th>\n",
       "      <td>1</td>\n",
       "      <td>1</td>\n",
       "      <td>1</td>\n",
       "      <td>0</td>\n",
       "      <td>1</td>\n",
       "      <td>0</td>\n",
       "      <td>0</td>\n",
       "      <td>0</td>\n",
       "      <td>1</td>\n",
       "      <td>0</td>\n",
       "      <td>0</td>\n",
       "    </tr>\n",
       "    <tr>\n",
       "      <th>1</th>\n",
       "      <td>0</td>\n",
       "      <td>0</td>\n",
       "      <td>1</td>\n",
       "      <td>0</td>\n",
       "      <td>0</td>\n",
       "      <td>1</td>\n",
       "      <td>0</td>\n",
       "      <td>1</td>\n",
       "      <td>0</td>\n",
       "      <td>0</td>\n",
       "      <td>0</td>\n",
       "    </tr>\n",
       "    <tr>\n",
       "      <th>2</th>\n",
       "      <td>0</td>\n",
       "      <td>0</td>\n",
       "      <td>0</td>\n",
       "      <td>1</td>\n",
       "      <td>0</td>\n",
       "      <td>1</td>\n",
       "      <td>0</td>\n",
       "      <td>0</td>\n",
       "      <td>1</td>\n",
       "      <td>0</td>\n",
       "      <td>0</td>\n",
       "    </tr>\n",
       "    <tr>\n",
       "      <th>3</th>\n",
       "      <td>1</td>\n",
       "      <td>0</td>\n",
       "      <td>1</td>\n",
       "      <td>0</td>\n",
       "      <td>1</td>\n",
       "      <td>1</td>\n",
       "      <td>0</td>\n",
       "      <td>1</td>\n",
       "      <td>0</td>\n",
       "      <td>1</td>\n",
       "      <td>1</td>\n",
       "    </tr>\n",
       "    <tr>\n",
       "      <th>4</th>\n",
       "      <td>0</td>\n",
       "      <td>0</td>\n",
       "      <td>0</td>\n",
       "      <td>0</td>\n",
       "      <td>1</td>\n",
       "      <td>0</td>\n",
       "      <td>0</td>\n",
       "      <td>0</td>\n",
       "      <td>0</td>\n",
       "      <td>1</td>\n",
       "      <td>0</td>\n",
       "    </tr>\n",
       "  </tbody>\n",
       "</table>\n",
       "</div>"
      ],
      "text/plain": [
       "  Experimentation Academic_Performance_Decline Social_Isolation  \\\n",
       "0               1                            1                1   \n",
       "1               0                            0                1   \n",
       "2               0                            0                0   \n",
       "3               1                            0                1   \n",
       "4               0                            0                0   \n",
       "\n",
       "  Financial_Issues Physical_Mental_Health_Problems Legal_Consequences  \\\n",
       "0                0                               1                  0   \n",
       "1                0                               0                  1   \n",
       "2                1                               0                  1   \n",
       "3                0                               1                  1   \n",
       "4                0                               1                  0   \n",
       "\n",
       "  Relationship_Strain Risk_Taking_Behavior Withdrawal_Symptoms  \\\n",
       "0                   0                    0                   1   \n",
       "1                   0                    1                   0   \n",
       "2                   0                    0                   1   \n",
       "3                   0                    1                   0   \n",
       "4                   0                    0                   0   \n",
       "\n",
       "  Denial_and_Resistance_to_Treatment Addiction_Class  \n",
       "0                                  0               0  \n",
       "1                                  0               0  \n",
       "2                                  0               0  \n",
       "3                                  1               1  \n",
       "4                                  1               0  "
      ]
     },
     "execution_count": 39,
     "metadata": {},
     "output_type": "execute_result"
    }
   ],
   "source": [
    "test_df_filtrado.head()"
   ]
  },
  {
   "cell_type": "code",
   "execution_count": 40,
   "metadata": {},
   "outputs": [
    {
     "data": {
      "text/plain": [
       "Experimentation                       2562\n",
       "Academic_Performance_Decline          2498\n",
       "Social_Isolation                      2550\n",
       "Financial_Issues                      2537\n",
       "Physical_Mental_Health_Problems       2454\n",
       "Legal_Consequences                    2576\n",
       "Relationship_Strain                   2543\n",
       "Risk_Taking_Behavior                  2577\n",
       "Withdrawal_Symptoms                   2612\n",
       "Denial_and_Resistance_to_Treatment    2453\n",
       "Addiction_Class                          0\n",
       "dtype: int64"
      ]
     },
     "execution_count": 40,
     "metadata": {},
     "output_type": "execute_result"
    }
   ],
   "source": [
    "tiene_nulls = train_df.isnull().sum()\n",
    "tiene_nulls"
   ]
  },
  {
   "cell_type": "code",
   "execution_count": 41,
   "metadata": {},
   "outputs": [
    {
     "data": {
      "text/plain": [
       "0    30072\n",
       "1    15809\n",
       "2     3870\n",
       "3      553\n",
       "4       36\n",
       "5        2\n",
       "Name: count, dtype: int64"
      ]
     },
     "execution_count": 41,
     "metadata": {},
     "output_type": "execute_result"
    }
   ],
   "source": [
    "tiene_nulls = train_df.isnull().sum(axis=1)\n",
    "conteo_nulls = tiene_nulls.value_counts().sort_index()\n",
    "conteo_nulls"
   ]
  },
  {
   "cell_type": "code",
   "execution_count": 42,
   "metadata": {},
   "outputs": [],
   "source": [
    "train_df_filtrado = train_df.dropna(thresh=train_df.shape[1] - 2)"
   ]
  },
  {
   "cell_type": "code",
   "execution_count": 43,
   "metadata": {},
   "outputs": [],
   "source": [
    "promedios = train_df_filtrado.mean()\n",
    "for col in train_df_filtrado.columns:\n",
    "    nuevo_valor = 1 if promedios[col] > 0.5 else 0\n",
    "    train_df_filtrado.loc[:, col] = train_df_filtrado[col].fillna(nuevo_valor)"
   ]
  },
  {
   "cell_type": "code",
   "execution_count": 44,
   "metadata": {},
   "outputs": [
    {
     "data": {
      "text/plain": [
       "Experimentation                       0\n",
       "Academic_Performance_Decline          0\n",
       "Social_Isolation                      0\n",
       "Financial_Issues                      0\n",
       "Physical_Mental_Health_Problems       0\n",
       "Legal_Consequences                    0\n",
       "Relationship_Strain                   0\n",
       "Risk_Taking_Behavior                  0\n",
       "Withdrawal_Symptoms                   0\n",
       "Denial_and_Resistance_to_Treatment    0\n",
       "Addiction_Class                       0\n",
       "dtype: int64"
      ]
     },
     "execution_count": 44,
     "metadata": {},
     "output_type": "execute_result"
    }
   ],
   "source": [
    "tiene_nulls = train_df_filtrado.isnull().sum()\n",
    "tiene_nulls"
   ]
  },
  {
   "cell_type": "markdown",
   "metadata": {},
   "source": [
    "# Balanceo de clases"
   ]
  },
  {
   "cell_type": "code",
   "execution_count": 45,
   "metadata": {},
   "outputs": [
    {
     "data": {
      "text/plain": [
       "Addiction_Class\n",
       "0    9984\n",
       "1    2611\n",
       "Name: count, dtype: int64"
      ]
     },
     "execution_count": 45,
     "metadata": {},
     "output_type": "execute_result"
    }
   ],
   "source": [
    "test_df_filtrado['Addiction_Class'].value_counts()"
   ]
  },
  {
   "cell_type": "code",
   "execution_count": 46,
   "metadata": {},
   "outputs": [
    {
     "data": {
      "text/plain": [
       "Addiction_Class\n",
       "0    34856\n",
       "1    14895\n",
       "Name: count, dtype: int64"
      ]
     },
     "execution_count": 46,
     "metadata": {},
     "output_type": "execute_result"
    }
   ],
   "source": [
    "train_df_filtrado['Addiction_Class'].value_counts()"
   ]
  },
  {
   "cell_type": "markdown",
   "metadata": {},
   "source": [
    "# Analisis previo"
   ]
  },
  {
   "cell_type": "code",
   "execution_count": 47,
   "metadata": {},
   "outputs": [
    {
     "data": {
      "text/html": [
       "<div>\n",
       "<style scoped>\n",
       "    .dataframe tbody tr th:only-of-type {\n",
       "        vertical-align: middle;\n",
       "    }\n",
       "\n",
       "    .dataframe tbody tr th {\n",
       "        vertical-align: top;\n",
       "    }\n",
       "\n",
       "    .dataframe thead th {\n",
       "        text-align: right;\n",
       "    }\n",
       "</style>\n",
       "<table border=\"1\" class=\"dataframe\">\n",
       "  <thead>\n",
       "    <tr style=\"text-align: right;\">\n",
       "      <th></th>\n",
       "      <th>Experimentation</th>\n",
       "      <th>Academic_Performance_Decline</th>\n",
       "      <th>Social_Isolation</th>\n",
       "      <th>Financial_Issues</th>\n",
       "      <th>Physical_Mental_Health_Problems</th>\n",
       "      <th>Legal_Consequences</th>\n",
       "      <th>Relationship_Strain</th>\n",
       "      <th>Risk_Taking_Behavior</th>\n",
       "      <th>Withdrawal_Symptoms</th>\n",
       "      <th>Denial_and_Resistance_to_Treatment</th>\n",
       "      <th>Addiction_Class</th>\n",
       "    </tr>\n",
       "  </thead>\n",
       "  <tbody>\n",
       "    <tr>\n",
       "      <th>count</th>\n",
       "      <td>49751</td>\n",
       "      <td>49751</td>\n",
       "      <td>49751</td>\n",
       "      <td>49751</td>\n",
       "      <td>49751</td>\n",
       "      <td>49751</td>\n",
       "      <td>49751</td>\n",
       "      <td>49751</td>\n",
       "      <td>49751</td>\n",
       "      <td>49751</td>\n",
       "      <td>49751</td>\n",
       "    </tr>\n",
       "    <tr>\n",
       "      <th>unique</th>\n",
       "      <td>2</td>\n",
       "      <td>2</td>\n",
       "      <td>2</td>\n",
       "      <td>2</td>\n",
       "      <td>2</td>\n",
       "      <td>2</td>\n",
       "      <td>2</td>\n",
       "      <td>2</td>\n",
       "      <td>2</td>\n",
       "      <td>2</td>\n",
       "      <td>2</td>\n",
       "    </tr>\n",
       "    <tr>\n",
       "      <th>top</th>\n",
       "      <td>1</td>\n",
       "      <td>1</td>\n",
       "      <td>1</td>\n",
       "      <td>1</td>\n",
       "      <td>0</td>\n",
       "      <td>0</td>\n",
       "      <td>1</td>\n",
       "      <td>0</td>\n",
       "      <td>1</td>\n",
       "      <td>1</td>\n",
       "      <td>0</td>\n",
       "    </tr>\n",
       "    <tr>\n",
       "      <th>freq</th>\n",
       "      <td>26179</td>\n",
       "      <td>26085</td>\n",
       "      <td>26068</td>\n",
       "      <td>26167</td>\n",
       "      <td>26063</td>\n",
       "      <td>26098</td>\n",
       "      <td>26171</td>\n",
       "      <td>26142</td>\n",
       "      <td>26283</td>\n",
       "      <td>26127</td>\n",
       "      <td>34856</td>\n",
       "    </tr>\n",
       "  </tbody>\n",
       "</table>\n",
       "</div>"
      ],
      "text/plain": [
       "        Experimentation  Academic_Performance_Decline  Social_Isolation  \\\n",
       "count             49751                         49751             49751   \n",
       "unique                2                             2                 2   \n",
       "top                   1                             1                 1   \n",
       "freq              26179                         26085             26068   \n",
       "\n",
       "        Financial_Issues  Physical_Mental_Health_Problems  Legal_Consequences  \\\n",
       "count              49751                            49751               49751   \n",
       "unique                 2                                2                   2   \n",
       "top                    1                                0                   0   \n",
       "freq               26167                            26063               26098   \n",
       "\n",
       "        Relationship_Strain  Risk_Taking_Behavior  Withdrawal_Symptoms  \\\n",
       "count                 49751                 49751                49751   \n",
       "unique                    2                     2                    2   \n",
       "top                       1                     0                    1   \n",
       "freq                  26171                 26142                26283   \n",
       "\n",
       "        Denial_and_Resistance_to_Treatment  Addiction_Class  \n",
       "count                                49751            49751  \n",
       "unique                                   2                2  \n",
       "top                                      1                0  \n",
       "freq                                 26127            34856  "
      ]
     },
     "execution_count": 47,
     "metadata": {},
     "output_type": "execute_result"
    }
   ],
   "source": [
    "train_df_filtrado.describe()"
   ]
  },
  {
   "cell_type": "code",
   "execution_count": 48,
   "metadata": {},
   "outputs": [
    {
     "data": {
      "image/png": "[encoded data removed]",
      "text/plain": [
       "<Figure size 1000x1000 with 2 Axes>"
      ]
     },
     "metadata": {},
     "output_type": "display_data"
    }
   ],
   "source": [
    "corr = train_df_filtrado.corr()\n",
    "plt.figure(figsize=(10, 10))\n",
    "sns.heatmap(corr, annot=True, fmt=\".3f\", cmap='coolwarm', cbar=True, square=True)\n",
    "plt.show()\n"
   ]
  },
  {
   "cell_type": "markdown",
   "metadata": {},
   "source": [
    "# Division de dataset"
   ]
  },
  {
   "cell_type": "code",
   "execution_count": 49,
   "metadata": {},
   "outputs": [],
   "source": [
    "X_train, y_train = train_df_filtrado.drop(columns=['Addiction_Class']), train_df_filtrado['Addiction_Class']\n",
    "X_test, y_test = test_df_filtrado.drop(columns=['Addiction_Class']), test_df_filtrado['Addiction_Class']"
   ]
  },
  {
   "cell_type": "markdown",
   "metadata": {},
   "source": [
    "# Redes Bayesianas"
   ]
  },
  {
   "cell_type": "code",
   "execution_count": 50,
   "metadata": {},
   "outputs": [
    {
     "data": {
      "application/vnd.jupyter.widget-view+json": {
       "model_id": "3381e27bf6ac4f159aae884325c2ecf1",
       "version_major": 2,
       "version_minor": 0
      },
      "text/plain": [
       "  0%|          | 0/1000000 [00:00<?, ?it/s]"
      ]
     },
     "metadata": {},
     "output_type": "display_data"
    },
    {
     "name": "stdout",
     "output_type": "stream",
     "text": [
      "[]\n"
     ]
    }
   ],
   "source": [
    "hc = HillClimbSearch(data=train_df_filtrado)\n",
    "best_model_1 = hc.estimate(scoring_method=BicScore(train_df_filtrado))\n",
    "print(best_model_1.edges())"
   ]
  },
  {
   "cell_type": "code",
   "execution_count": 51,
   "metadata": {},
   "outputs": [
    {
     "data": {
      "application/vnd.jupyter.widget-view+json": {
       "model_id": "5ddb94d080994410914bfad890ed1460",
       "version_major": 2,
       "version_minor": 0
      },
      "text/plain": [
       "  0%|          | 0/1000000 [00:00<?, ?it/s]"
      ]
     },
     "metadata": {},
     "output_type": "display_data"
    },
    {
     "name": "stdout",
     "output_type": "stream",
     "text": [
      "[]\n"
     ]
    }
   ],
   "source": [
    "est = MmhcEstimator(train_df_filtrado)\n",
    "best_model_2 = est.estimate(scoring_method=BicScore(train_df_filtrado))\n",
    "print(best_model_2.edges())"
   ]
  },
  {
   "cell_type": "code",
   "execution_count": 52,
   "metadata": {},
   "outputs": [
    {
     "data": {
      "application/vnd.jupyter.widget-view+json": {
       "model_id": "608b7184a29a4ca6b1aa1a89cecdaf0b",
       "version_major": 2,
       "version_minor": 0
      },
      "text/plain": [
       "  0%|          | 0/5 [00:00<?, ?it/s]"
      ]
     },
     "metadata": {},
     "output_type": "display_data"
    },
    {
     "name": "stdout",
     "output_type": "stream",
     "text": [
      "[]\n"
     ]
    }
   ],
   "source": [
    "pc = PC(data=train_df_filtrado)\n",
    "best_model_3 = pc.estimate(scoring_method=BicScore(train_df_filtrado))\n",
    "print(best_model_3.edges())"
   ]
  },
  {
   "cell_type": "code",
   "execution_count": 53,
   "metadata": {},
   "outputs": [
    {
     "data": {
      "application/vnd.jupyter.widget-view+json": {
       "model_id": "a670da219256422d84d042f01dff62d1",
       "version_major": 2,
       "version_minor": 0
      },
      "text/plain": [
       "  0%|          | 0/1000000 [00:00<?, ?it/s]"
      ]
     },
     "metadata": {},
     "output_type": "display_data"
    },
    {
     "name": "stdout",
     "output_type": "stream",
     "text": [
      "[]\n"
     ]
    }
   ],
   "source": [
    "hc = HillClimbSearch(data=train_df_filtrado)\n",
    "best_model_4 = hc.estimate(scoring_method=BDeuScore(train_df_filtrado))\n",
    "print(best_model_4.edges())"
   ]
  },
  {
   "cell_type": "code",
   "execution_count": 54,
   "metadata": {},
   "outputs": [
    {
     "data": {
      "application/vnd.jupyter.widget-view+json": {
       "model_id": "60e1ea0c5c84496ab037879008566c5c",
       "version_major": 2,
       "version_minor": 0
      },
      "text/plain": [
       "  0%|          | 0/1000000 [00:00<?, ?it/s]"
      ]
     },
     "metadata": {},
     "output_type": "display_data"
    },
    {
     "name": "stdout",
     "output_type": "stream",
     "text": [
      "[]\n"
     ]
    }
   ],
   "source": [
    "est = MmhcEstimator(train_df_filtrado)\n",
    "best_model_5 = est.estimate(scoring_method=BDeuScore(train_df_filtrado))\n",
    "print(best_model_5.edges())"
   ]
  },
  {
   "cell_type": "code",
   "execution_count": 55,
   "metadata": {},
   "outputs": [
    {
     "data": {
      "application/vnd.jupyter.widget-view+json": {
       "model_id": "9165c38923cd41a2971ae3a967d53a05",
       "version_major": 2,
       "version_minor": 0
      },
      "text/plain": [
       "  0%|          | 0/5 [00:00<?, ?it/s]"
      ]
     },
     "metadata": {},
     "output_type": "display_data"
    },
    {
     "name": "stdout",
     "output_type": "stream",
     "text": [
      "[]\n"
     ]
    }
   ],
   "source": [
    "pc = PC(data=train_df_filtrado)\n",
    "best_model_6 = pc.estimate(scoring_method=BDeuScore(train_df_filtrado))\n",
    "print(best_model_6.edges())"
   ]
  },
  {
   "cell_type": "code",
   "execution_count": 56,
   "metadata": {},
   "outputs": [],
   "source": [
    "model = BayesianNetwork(best_model_3.edges())\n",
    "model.fit(train_df_filtrado, estimator=BayesianEstimator, prior_type=\"BDeu\")\n",
    "for cpd in model.get_cpds():\n",
    "    print(cpd)"
   ]
  }
 ],
 "metadata": {
  "kernelspec": {
   "display_name": "Python 3",
   "language": "python",
   "name": "python3"
  },
  "language_info": {
   "codemirror_mode": {
    "name": "ipython",
    "version": 3
   },
   "file_extension": ".py",
   "mimetype": "text/x-python",
   "name": "python",
   "nbconvert_exporter": "python",
   "pygments_lexer": "ipython3",
   "version": "3.12.2"
  }
 },
 "nbformat": 4,
 "nbformat_minor": 2
}
